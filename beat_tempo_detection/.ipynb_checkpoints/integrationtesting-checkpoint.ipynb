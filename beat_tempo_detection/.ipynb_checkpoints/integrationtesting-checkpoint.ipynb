{
 "cells": [
  {
   "cell_type": "code",
   "execution_count": 8,
   "id": "ef850440",
   "metadata": {},
   "outputs": [],
   "source": [
    "from OnsetDetection import spectrogram, peak_extract\n",
    "import librosa\n",
    "import numpy as np"
   ]
  },
  {
   "cell_type": "code",
   "execution_count": 3,
   "id": "e3d191e4",
   "metadata": {},
   "outputs": [],
   "source": [
    "aud, sr = librosa.load(librosa.ex(\"trumpet\"), sr=44100, mono=True)"
   ]
  },
  {
   "cell_type": "code",
   "execution_count": 10,
   "id": "238c461a",
   "metadata": {},
   "outputs": [],
   "source": [
    "spec = spectrogram(aud, plot=False)"
   ]
  },
  {
   "cell_type": "code",
   "execution_count": 12,
   "id": "d2bbc777",
   "metadata": {},
   "outputs": [],
   "source": [
    "peaks = peak_extract(spec, sr)"
   ]
  },
  {
   "cell_type": "code",
   "execution_count": null,
   "id": "534b674d",
   "metadata": {},
   "outputs": [],
   "source": []
  }
 ],
 "metadata": {
  "kernelspec": {
   "display_name": "Python 3 (ipykernel)",
   "language": "python",
   "name": "python3"
  },
  "language_info": {
   "codemirror_mode": {
    "name": "ipython",
    "version": 3
   },
   "file_extension": ".py",
   "mimetype": "text/x-python",
   "name": "python",
   "nbconvert_exporter": "python",
   "pygments_lexer": "ipython3",
   "version": "3.11.5"
  }
 },
 "nbformat": 4,
 "nbformat_minor": 5
}
