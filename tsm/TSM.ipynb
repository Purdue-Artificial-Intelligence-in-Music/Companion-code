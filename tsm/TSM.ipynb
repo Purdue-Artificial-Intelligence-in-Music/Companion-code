{
 "cells": [
  {
   "cell_type": "code",
   "execution_count": 2,
   "metadata": {},
   "outputs": [],
   "source": [
    "import numpy as np\n",
    "import pytsmod as tsm\n",
    "import soundfile as sf\n",
    "import threading\n",
    "from scipy.interpolate import interp1d"
   ]
  },
  {
   "cell_type": "code",
   "execution_count": 3,
   "metadata": {},
   "outputs": [],
   "source": [
    "def split_file(x,sr,time,tempo):\n",
    "    '''\n",
    "    input:\n",
    "    -x, sf data\n",
    "    -sr, sample rate\n",
    "    -time(seconds)\n",
    "    -tempo(bpm)\n",
    "    '''\n",
    "    x_split = []\n",
    "    scale = []\n",
    "    temp = []\n",
    "    time.append((x.shape[-1])/sr)\n",
    "    for i in range(len(time)-1):\n",
    "        i1 = int(time[i]*sr)\n",
    "        i2 = int((time[i+1]*sr)+1)\n",
    "        print(i1,i2)\n",
    "        temp = x[:,i1:i2].copy()\n",
    "        print(temp)\n",
    "        x_split.append(temp)\n",
    "        scale.append(120/tempo[i])\n",
    "    return(x_split, scale)\n",
    "\n",
    "def time_stretch(input_file, pairs):\n",
    "    '''\n",
    "    input:\n",
    "    - input_file (wav file)\n",
    "    - pairs (t, bpm)\n",
    "    output:\n",
    "    - x (soundfile data)\n",
    "    - sr (sample rate)\n",
    "    '''\n",
    "    x,sr = sf.read(input_file) #gets data and sample rate\n",
    "    x = x.T\n",
    "    print(\"length:\",len(x[0]),\"sr:\",sr,\"time:\",(len(x[0])/sr))\n",
    "    print(x)\n",
    "    #gets data from pair\n",
    "    time = pairs[0]\n",
    "    bpm = pairs[1]\n",
    "    #insert starting data\n",
    "    time.insert(0,0) \n",
    "    bpm.insert(0,120)\n",
    "\n",
    "    x_split,scale = split_file(x,sr,time,bpm) #splits data into multiple chunks\n",
    "    x_output = np.array([[],[]])\n",
    "    for i in range(len(x_split)):\n",
    "        print(\"period:\",i)\n",
    "        print(x_split[i],scale[i])\n",
    "        x_output = np.concatenate((x_output,(tsm.hptsm(x_split[i],scale[i]))),axis = 1) #added each chunks scaled\n",
    "        print(\"current length: \",(len(x_output[0])/sr))\n",
    "    return (x_output,sr)"
   ]
  },
  {
   "cell_type": "code",
   "execution_count": 4,
   "metadata": {},
   "outputs": [
    {
     "name": "stdout",
     "output_type": "stream",
     "text": [
      "length: 187776 sr: 48000 time: 3.912\n",
      "[[0. 0. 0. ... 0. 0. 0.]\n",
      " [0. 0. 0. ... 0. 0. 0.]]\n",
      "0 96001\n",
      "[[0.         0.         0.         ... 0.05275001 0.09318307 0.110966  ]\n",
      " [0.         0.         0.         ... 0.01341669 0.06233741 0.09311306]]\n",
      "96000 187777\n",
      "[[0.110966   0.10279018 0.08289626 ... 0.         0.         0.        ]\n",
      " [0.09311306 0.09734363 0.0820768  ... 0.         0.         0.        ]]\n",
      "period: 0\n",
      "[[0.         0.         0.         ... 0.05275001 0.09318307 0.110966  ]\n",
      " [0.         0.         0.         ... 0.01341669 0.06233741 0.09311306]] 1.0\n",
      "current length:  2.000020833333333\n",
      "period: 1\n",
      "[[0.110966   0.10279018 0.08289626 ... 0.         0.         0.        ]\n",
      " [0.09311306 0.09734363 0.0820768  ... 0.         0.         0.        ]] 0.5\n",
      "current length:  2.9560208333333335\n"
     ]
    }
   ],
   "source": [
    "# filepath = 'C:\\\\Users\\\\Tima\\\\Desktop\\\\Companion-code\\\\beat_tempo_detection\\\\songs\\\\around_the_output.wav'\n",
    "filepath = 'C:\\\\Users\\\\Tima\\\\Desktop\\\\Companion-code\\\\beat_tempo_detection\\\\songs\\\\trumpet.mp3'\n",
    "output_file = 'C:\\\\Users\\\\Tima\\\\Desktop\\\\Companion-code\\\\tsm.wav'\n",
    "pairs = [[2],[240]] #at 2 seconds change bpm to 60 then 5 seconds change to 240\n",
    "x,sr = time_stretch(filepath,pairs) #perform time stretch using pair\n",
    "sf.write(output_file,np.ravel(x),sr) #save file"
   ]
  },
  {
   "attachments": {},
   "cell_type": "markdown",
   "metadata": {},
   "source": [
    "The code below that is based on the TimeStretchThread() is a draft. The actual TimeStretchThread() that is needed to be used is below."
   ]
  },
  {
   "cell_type": "code",
   "execution_count": 7,
   "metadata": {},
   "outputs": [],
   "source": [
    "# class TimeStretchThread(threading.Thread):\n",
    "#     def __init__(self, AThread, input_file, pairs, output_filepath):\n",
    "#         threading.Thread.__init__(self)\n",
    "#         self.input_file = input_file\n",
    "#         self.pairs = pairs\n",
    "#         self.output_filepath = output_filepath\n",
    "#         self.stop_request = False\n",
    "\n",
    "#     # def run(self):\n",
    "#     #     while not self.stop_request:\n",
    "#     #         x, sr = time_stretch(self.input_file, self.pairs)\n",
    "#     #         sf.write(output_file,np.ravel(x),sr) \n",
    "#     def run(self):\n",
    "#         while not self.stop_request:\n",
    "#             data = self.AThread.get_n_samples(10000)\n",
    "#             if data is not None and len(data) > 5000:\n",
    "#                 # do timestretching using data\n",
    "#                 x, sr = time_stretch(data, self.BeatThread.output)\n",
    "#                 self.output = x\n",
    "#             self.stop_request = True"
   ]
  },
  {
   "cell_type": "code",
   "execution_count": 15,
   "metadata": {},
   "outputs": [],
   "source": [
    "class TimeStretchThread(threading.Thread):\n",
    "    def __init__(self, AudioThread, BeatThread, input_file, pairs, output_filepath):\n",
    "        threading.Thread.__init__(self)\n",
    "        self.input_file = input_file\n",
    "        self.pairs = pairs\n",
    "        self.output_filepath = output_filepath\n",
    "        self.stop_request = False\n",
    "        self.AThread = AudioThread\n",
    "        self.BeatThread = BeatThread\n",
    "        self.output = None\n",
    "\n",
    "    def run(self):\n",
    "        while not self.stop_request:\n",
    "            data = self.AThread.get_n_samples(10000)\n",
    "            if data is not None and len(data) > 5000:\n",
    "                # do timestretching using data\n",
    "                x, sr = time_stretch(data, self.BeatThread.output)\n",
    "                self.output = x\n",
    "            self.stop_request = True\n",
    "\n",
    "        sf.write(self.output_filepath, np.ravel(self.output), sr)"
   ]
  },
  {
   "cell_type": "code",
   "execution_count": 16,
   "metadata": {},
   "outputs": [
    {
     "ename": "NameError",
     "evalue": "name 'audio_thread' is not defined",
     "output_type": "error",
     "traceback": [
      "\u001b[1;31m---------------------------------------------------------------------------\u001b[0m",
      "\u001b[1;31mNameError\u001b[0m                                 Traceback (most recent call last)",
      "Cell \u001b[1;32mIn[16], line 7\u001b[0m\n\u001b[0;32m      4\u001b[0m pairs \u001b[39m=\u001b[39m [[\u001b[39m2\u001b[39m, \u001b[39m3\u001b[39m], [\u001b[39m60\u001b[39m, \u001b[39m120\u001b[39m]] \u001b[39m# times and bpms for 2 periods\u001b[39;00m\n\u001b[0;32m      6\u001b[0m \u001b[39m# t = TimeStretchThread(filepath, pairs, output_file)\u001b[39;00m\n\u001b[1;32m----> 7\u001b[0m t \u001b[39m=\u001b[39m TimeStretchThread(audio_thread, beat_thread, filepath, pairs, output_file)\n\u001b[0;32m      8\u001b[0m t\u001b[39m.\u001b[39mstart()\n",
      "\u001b[1;31mNameError\u001b[0m: name 'audio_thread' is not defined"
     ]
    }
   ],
   "source": [
    "filepath = 'C:\\\\Users\\\\Tima\\\\Desktop\\\\Companion-code\\\\beat_tempo_detection\\\\songs\\\\trumpet.mp3'\n",
    "output_file = 'C:\\\\Users\\\\Tima\\\\Desktop\\\\Companion-code\\\\tsm.wav'\n",
    "# pairs = [[2,240]]  # Modify pairs to match the length of time and bpm\n",
    "pairs = [[2, 3], [60, 120]] # times and bpms for 2 periods\n",
    "\n",
    "# t = TimeStretchThread(filepath, pairs, output_file)\n",
    "t = TimeStretchThread(audio_thread, beat_thread, filepath, pairs, output_file)\n",
    "t.start()"
   ]
  }
 ],
 "metadata": {
  "kernelspec": {
   "display_name": "Python 3",
   "language": "python",
   "name": "python3"
  },
  "language_info": {
   "codemirror_mode": {
    "name": "ipython",
    "version": 3
   },
   "file_extension": ".py",
   "mimetype": "text/x-python",
   "name": "python",
   "nbconvert_exporter": "python",
   "pygments_lexer": "ipython3",
   "version": "3.12.0"
  },
  "orig_nbformat": 4,
  "vscode": {
   "interpreter": {
    "hash": "3fcbd7240ee8f908d933dc7f71e8c42a1a91163b70ede8dcff5146d4087436c7"
   }
  }
 },
 "nbformat": 4,
 "nbformat_minor": 2
}
