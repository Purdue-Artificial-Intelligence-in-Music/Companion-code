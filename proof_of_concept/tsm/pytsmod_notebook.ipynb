{
 "cells": [
  {
   "cell_type": "code",
   "execution_count": 66,
   "metadata": {},
   "outputs": [],
   "source": [
    "import numpy as np\n",
    "import pytsmod as tsm\n",
    "import soundfile as sf"
   ]
  },
  {
   "cell_type": "code",
   "execution_count": 70,
   "metadata": {},
   "outputs": [],
   "source": [
    "def split_file(x,sr,time,tempo):\n",
    "    '''\n",
    "    input:\n",
    "    -x, sf data\n",
    "    -sr, sample rate\n",
    "    -time(seconds)\n",
    "    -tempo(bpm)\n",
    "    '''\n",
    "    x_split = []\n",
    "    scale = []\n",
    "    temp = []\n",
    "    time.append((x.shape[-1])/sr)\n",
    "    for i in range(len(time)-1):\n",
    "        i1 = int(time[i]*sr)\n",
    "        i2 = int((time[i+1]*sr)+1)\n",
    "        print(i1,i2)\n",
    "        temp = x[:,i1:i2].copy()\n",
    "        print(temp)\n",
    "        x_split.append(temp)\n",
    "        scale.append(120/tempo[i])\n",
    "    return(x_split, scale)\n",
    "\n",
    "def time_stretch(input_file, pairs):\n",
    "    '''\n",
    "    input:\n",
    "    - input_file (wav file)\n",
    "    - pairs (t, bpm)\n",
    "    output:\n",
    "    - x (soundfile data)\n",
    "    - sr (sample rate)\n",
    "    '''\n",
    "    x,sr = sf.read(input_file)\n",
    "    x = x.T\n",
    "    print(\"length:\",len(x[0]),\"sr:\",sr,\"time:\",(len(x[0])/sr))\n",
    "    print(x)\n",
    "    time = pairs[0]\n",
    "    bpm = pairs[1]\n",
    "    time.insert(0,0)\n",
    "    bpm.insert(0,120)\n",
    "    x_split,scale = split_file(x,sr,time,bpm)\n",
    "    x_output = np.array([[],[]])\n",
    "    for i in range(len(x_split)):\n",
    "        print(\"period:\",i)\n",
    "        print(x_split[i],scale[i])\n",
    "        x_output = np.concatenate((x_output,(tsm.hptsm(x_split[i],scale[i]))),axis = 1)\n",
    "        print(\"current length: \",(len(x_output[0])/sr))\n",
    "    return (x_output,sr)"
   ]
  },
  {
   "cell_type": "code",
   "execution_count": 77,
   "metadata": {},
   "outputs": [],
   "source": [
    "filepath = './soundclips/120BPM_test.wav'\n",
    "new_filepath = './generated/test1.wav'\n",
    "pairs = [[2],[60]]\n",
    "x,sr = time_stretch(filepath,pairs)\n",
    "sf.write(new_filepath,np.ravel(x),sr)"
   ]
  }
 ],
 "metadata": {
  "kernelspec": {
   "display_name": "base",
   "language": "python",
   "name": "python3"
  },
  "language_info": {
   "codemirror_mode": {
    "name": "ipython",
    "version": 3
   },
   "file_extension": ".py",
   "mimetype": "text/x-python",
   "name": "python",
   "nbconvert_exporter": "python",
   "pygments_lexer": "ipython3",
   "version": "3.9.0"
  },
  "orig_nbformat": 4
 },
 "nbformat": 4,
 "nbformat_minor": 2
}
