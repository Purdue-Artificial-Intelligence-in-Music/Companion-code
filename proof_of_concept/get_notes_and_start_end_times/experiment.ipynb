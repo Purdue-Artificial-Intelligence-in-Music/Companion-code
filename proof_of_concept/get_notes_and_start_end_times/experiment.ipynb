{
 "cells": [
  {
   "cell_type": "code",
   "execution_count": 1,
   "metadata": {},
   "outputs": [
    {
     "name": "stdout",
     "output_type": "stream",
     "text": [
      "Defaulting to user installation because normal site-packages is not writeable\n",
      "Requirement already satisfied: music21 in /home/shay/a/ko109/.local/lib/python3.10/site-packages (9.1.0)\n",
      "Requirement already satisfied: chardet in /usr/lib/python3/dist-packages (from music21) (4.0.0)\n",
      "Requirement already satisfied: numpy in /usr/lib/python3/dist-packages (from music21) (1.21.5)\n",
      "Requirement already satisfied: requests in /usr/lib/python3/dist-packages (from music21) (2.25.1)\n",
      "Requirement already satisfied: matplotlib in /usr/lib/python3/dist-packages (from music21) (3.5.1)\n",
      "Requirement already satisfied: webcolors>=1.5 in /home/shay/a/ko109/.local/lib/python3.10/site-packages (from music21) (1.13)\n",
      "Requirement already satisfied: more-itertools in /usr/lib/python3/dist-packages (from music21) (8.10.0)\n",
      "Requirement already satisfied: jsonpickle in /home/shay/a/ko109/.local/lib/python3.10/site-packages (from music21) (3.0.2)\n",
      "Requirement already satisfied: joblib in /home/shay/a/ko109/.local/lib/python3.10/site-packages (from music21) (1.3.2)\n",
      "Note: you may need to restart the kernel to use updated packages.\n"
     ]
    }
   ],
   "source": [
    "%pip install music21"
   ]
  },
  {
   "cell_type": "markdown",
   "metadata": {},
   "source": [
    "# Parsing score with music21\n",
    "* Goal: parse a score and put all notes involved into a python set"
   ]
  },
  {
   "cell_type": "code",
   "execution_count": 2,
   "metadata": {},
   "outputs": [],
   "source": [
    "from music21 import *\n",
    "import numpy as np\n",
    "import math\n",
    "import os\n",
    "import time"
   ]
  },
  {
   "cell_type": "code",
   "execution_count": 3,
   "metadata": {},
   "outputs": [],
   "source": [
    "score = converter.parse('bourree.xml')"
   ]
  },
  {
   "cell_type": "code",
   "execution_count": 4,
   "metadata": {},
   "outputs": [
    {
     "data": {
      "text/plain": [
       "<music21.key.Key of G major>"
      ]
     },
     "execution_count": 4,
     "metadata": {},
     "output_type": "execute_result"
    }
   ],
   "source": [
    "score.analyze('key')"
   ]
  },
  {
   "cell_type": "markdown",
   "metadata": {},
   "source": [
    "## Finding number of Measures in score\n"
   ]
  },
  {
   "cell_type": "code",
   "execution_count": 5,
   "metadata": {},
   "outputs": [
    {
     "name": "stdout",
     "output_type": "stream",
     "text": [
      "<music21.stream.iterator.StreamIterator for Score:0x7f2008547d30 @:0>\n",
      "\n",
      "there are 1 part(s) in score.parts\n",
      "<music21.stream.Part Part 1>\n"
     ]
    }
   ],
   "source": [
    "print(score.parts)\n",
    "print()\n",
    "print(f'there are {len(score.parts)} part(s) in score.parts')\n",
    "for item in score.parts:\n",
    "    print(item)\n",
    "# for i in range(len(score.parts)):\n",
    "#     print(score.parts[i]) "
   ]
  },
  {
   "cell_type": "code",
   "execution_count": 6,
   "metadata": {},
   "outputs": [
    {
     "name": "stdout",
     "output_type": "stream",
     "text": [
      "there are 24 element(s) in part\n",
      "item 1 : P1: Part 1: \n",
      "item 2 : <music21.stream.Measure 1 offset=0.0>\n",
      "item 3 : <music21.spanner.Slur <music21.note.Note D><music21.note.Note B>>\n",
      "item 4 : <music21.spanner.Slur <music21.note.Note B><music21.note.Note B>>\n",
      "item 5 : <music21.dynamics.Crescendo <music21.note.Note E><music21.note.Note G>>\n",
      "item 6 : <music21.spanner.Slur <music21.note.Note E><music21.note.Note D>>\n",
      "item 7 : <music21.spanner.Slur <music21.note.Note C><music21.note.Note B>>\n",
      "item 8 : <music21.spanner.Slur <music21.note.Note B><music21.note.Note G>>\n",
      "item 9 : <music21.dynamics.Crescendo <music21.note.Note B><music21.note.Note G>>\n",
      "item 10 : <music21.spanner.Slur <music21.note.Note A><music21.note.Note C#>>\n",
      "item 11 : <music21.spanner.Slur <music21.note.Note A><music21.note.Note C#>>\n",
      "item 12 : <music21.dynamics.Diminuendo <music21.note.Note D><music21.note.Rest 16th>>\n",
      "item 13 : <music21.spanner.Slur <music21.note.Note D><music21.note.Note B>>\n",
      "item 14 : <music21.spanner.Slur <music21.note.Note C><music21.note.Note B>>\n",
      "item 15 : <music21.spanner.Slur <music21.note.Note B><music21.note.Note G>>\n",
      "item 16 : <music21.stream.Measure 2 offset=1.0>\n",
      "item 17 : <music21.stream.Measure 3 offset=5.0>\n",
      "item 18 : <music21.stream.Measure 4 offset=9.0>\n",
      "item 19 : <music21.stream.Measure 5 offset=13.0>\n",
      "item 20 : <music21.stream.Measure 6 offset=17.0>\n",
      "item 21 : <music21.stream.Measure 7 offset=21.0>\n",
      "item 22 : <music21.stream.Measure 8 offset=25.0>\n",
      "item 23 : <music21.stream.Measure 9 offset=29.0>\n",
      "item 24 : <music21.stream.Measure 10 offset=33.0>\n"
     ]
    }
   ],
   "source": [
    "# isolate out the only part (聲部)\n",
    "part = score.parts[0]\n",
    "print(f'there are {len(part)} element(s) in part')\n",
    "for i,item in enumerate(part, 1):\n",
    "    print(f'item {i} : {item}') "
   ]
  },
  {
   "cell_type": "code",
   "execution_count": 7,
   "metadata": {},
   "outputs": [
    {
     "name": "stdout",
     "output_type": "stream",
     "text": [
      "there are 10 measures in score\n"
     ]
    }
   ],
   "source": [
    "\"\"\"playing with Isaac's Code: verified is correct, but how does the math work?\"\"\"\n",
    "beats = score.getTimeSignatures(recurse=False)[0].denominator\n",
    "num_measures = int(math.ceil(score.highestTime / beats))\n",
    "print(f'there are {num_measures} measures in score')"
   ]
  },
  {
   "cell_type": "markdown",
   "metadata": {},
   "source": [
    "## Collect all notes from all measures in a score"
   ]
  },
  {
   "cell_type": "markdown",
   "metadata": {},
   "source": [
    "> printing all notes from all measures"
   ]
  },
  {
   "cell_type": "code",
   "execution_count": 8,
   "metadata": {},
   "outputs": [
    {
     "name": "stdout",
     "output_type": "stream",
     "text": [
      "measure 1:\n",
      "\t<music21.note.Note D>\n",
      "measure 2:\n",
      "\t<music21.note.Note D>\n",
      "\t<music21.note.Note B>\n",
      "\t<music21.note.Note C>\n",
      "\t<music21.note.Note B>\n",
      "\t<music21.note.Note A>\n",
      "\t<music21.note.Note G>\n",
      "measure 3:\n",
      "\t<music21.note.Note E>\n",
      "\t<music21.note.Note G>\n",
      "\t<music21.note.Note F#>\n",
      "\t<music21.note.Note E>\n",
      "measure 4:\n",
      "\t<music21.note.Note D>\n",
      "\t<music21.note.Note C>\n",
      "\t<music21.note.Note B>\n",
      "\t<music21.note.Note A>\n",
      "\t<music21.note.Note B>\n",
      "\t<music21.note.Note C>\n",
      "\t<music21.note.Note A>\n",
      "measure 5:\n",
      "\t<music21.note.Note B>\n",
      "\t<music21.note.Note G>\n",
      "\t<music21.note.Note A>\n",
      "measure 6:\n",
      "\t<music21.note.Note B>\n",
      "\t<music21.note.Note C#>\n",
      "\t<music21.note.Note D>\n",
      "\t<music21.note.Note B>\n",
      "\t<music21.note.Note C#>\n",
      "\t<music21.note.Note D>\n",
      "\t<music21.note.Note E>\n",
      "\t<music21.note.Note C#>\n",
      "measure 7:\n",
      "\t<music21.note.Note D>\n",
      "\t<music21.note.Note E>\n",
      "\t<music21.note.Note F#>\n",
      "\t<music21.note.Note D>\n",
      "\t<music21.note.Note E>\n",
      "\t<music21.note.Note F#>\n",
      "\t<music21.note.Note G>\n",
      "\t<music21.note.Note E>\n",
      "measure 8:\n",
      "\t<music21.note.Note F#>\n",
      "\t<music21.note.Note G>\n",
      "\t<music21.note.Note A>\n",
      "\t<music21.note.Note A>\n",
      "\t<music21.note.Note C#>\n",
      "measure 9:\n",
      "\t<music21.note.Note D>\n",
      "\t<music21.note.Note D>\n",
      "measure 10:\n",
      "\t<music21.note.Note D>\n",
      "\t<music21.note.Note B>\n",
      "\t<music21.note.Note C>\n",
      "\t<music21.note.Note B>\n",
      "\t<music21.note.Note A>\n",
      "\t<music21.note.Note G>\n"
     ]
    }
   ],
   "source": [
    "# measures start with index 1 and can be accessed from score.measure(measure_num)\n",
    "\n",
    "for i in range(1, num_measures+1, 1):\n",
    "    measure_notes = part.measure(i).notes       #note in this example there is only one part, so this is working\n",
    "    print(f'measure {i}:')\n",
    "    for note in measure_notes:\n",
    "        print(f'\\t{note}')"
   ]
  },
  {
   "cell_type": "markdown",
   "metadata": {},
   "source": [
    "## Collecting all notes from a measure and put them into a set"
   ]
  },
  {
   "cell_type": "code",
   "execution_count": 9,
   "metadata": {},
   "outputs": [],
   "source": [
    "\"\"\"\n",
    "    input:  measure (music21.stream.Measure)\n",
    "    output: (set(music21.note.Note)): a set containing all notes present in the mxml file\n",
    "\"\"\"\n",
    "def collect_all_notes_from_measure(measure):\n",
    "    return frozenset(note for note in measure.notes)"
   ]
  },
  {
   "cell_type": "markdown",
   "metadata": {},
   "source": [
    "> compute the number of measures from a score"
   ]
  },
  {
   "cell_type": "code",
   "execution_count": 10,
   "metadata": {},
   "outputs": [],
   "source": [
    "\"\"\"Isacc's code refactored into a function: but still do not know how does the math works\"\"\"\n",
    "def find_num_measures_in_score(score):\n",
    "    #might have to iterate through this part if there are multiple time signatures in a given score\n",
    "    # beats = [timeSig.denominator for timeSig in score.getTimeSignatures(recurse=False)]   #the multiple time sig version\n",
    "    beats = score.getTimeSignatures(recurse=False)[0].denominator       \n",
    "    num_measures = int(math.ceil(score.highestTime / beats))\n",
    "    return num_measures"
   ]
  },
  {
   "cell_type": "markdown",
   "metadata": {},
   "source": [
    "> given score, get all notes from all parts which each contains different measures"
   ]
  },
  {
   "cell_type": "code",
   "execution_count": 11,
   "metadata": {},
   "outputs": [],
   "source": [
    "\"\"\"\n",
    "input: score (music21.stream.Score)\n",
    "output: all_notes (set(music21.stream.Note))\n",
    "\"\"\"\n",
    "def collect_all_notes_from_score(score):\n",
    "    all_notes = set()\n",
    "    for part in score.parts:\n",
    "        num_measures = find_num_measures_in_score(part)\n",
    "        for i in range(1, num_measures+1, 1):\n",
    "            all_notes.add(collect_all_notes_from_measure(part.measure(i)))\n",
    "    return all_notes"
   ]
  },
  {
   "cell_type": "markdown",
   "metadata": {},
   "source": [
    "> flattenning set"
   ]
  },
  {
   "cell_type": "code",
   "execution_count": 12,
   "metadata": {},
   "outputs": [],
   "source": [
    "def flatten_frozenset_in_sets(input_set:set, final:set) -> set:\n",
    "    for elem in input_set:\n",
    "        if isinstance(elem, frozenset):\n",
    "            flatten_frozenset_in_sets(set(elem), final)\n",
    "        else:\n",
    "            final.add(elem)"
   ]
  },
  {
   "cell_type": "markdown",
   "metadata": {},
   "source": [
    "## Driver/test code for note collection from a given score"
   ]
  },
  {
   "cell_type": "code",
   "execution_count": 13,
   "metadata": {},
   "outputs": [
    {
     "name": "stdout",
     "output_type": "stream",
     "text": [
      "10\n",
      "{frozenset({<music21.note.Note G>, <music21.note.Note B>, <music21.note.Note D>, <music21.note.Note C>, <music21.note.Note B>, <music21.note.Note A>}), frozenset({<music21.note.Note A>, <music21.note.Note A>, <music21.note.Note F#>, <music21.note.Note C#>, <music21.note.Note G>}), frozenset({<music21.note.Note C#>, <music21.note.Note C#>, <music21.note.Note C#>, <music21.note.Note D>, <music21.note.Note D>, <music21.note.Note B>, <music21.note.Note E>, <music21.note.Note B>}), frozenset({<music21.note.Note E>, <music21.note.Note F#>, <music21.note.Note E>, <music21.note.Note G>}), frozenset({<music21.note.Note D>}), frozenset({<music21.note.Note B>, <music21.note.Note C>, <music21.note.Note C>, <music21.note.Note B>, <music21.note.Note A>, <music21.note.Note D>, <music21.note.Note A>}), frozenset({<music21.note.Note D>, <music21.note.Note E>, <music21.note.Note D>, <music21.note.Note E>, <music21.note.Note E>, <music21.note.Note F#>, <music21.note.Note F#>, <music21.note.Note G>}), frozenset({<music21.note.Note D>, <music21.note.Note D>}), frozenset({<music21.note.Note G>, <music21.note.Note B>, <music21.note.Note A>}), frozenset({<music21.note.Note D>, <music21.note.Note B>, <music21.note.Note G>, <music21.note.Note C>, <music21.note.Note A>, <music21.note.Note B>})}\n",
      "{<music21.note.Note D>, <music21.note.Note C>, <music21.note.Note B>, <music21.note.Note C#>, <music21.note.Note E>, <music21.note.Note B>, <music21.note.Note D>, <music21.note.Note F#>, <music21.note.Note C>, <music21.note.Note B>, <music21.note.Note B>, <music21.note.Note B>, <music21.note.Note A>, <music21.note.Note G>, <music21.note.Note C#>, <music21.note.Note G>, <music21.note.Note D>, <music21.note.Note D>, <music21.note.Note D>, <music21.note.Note B>, <music21.note.Note D>, <music21.note.Note C>, <music21.note.Note E>, <music21.note.Note B>, <music21.note.Note G>, <music21.note.Note A>, <music21.note.Note A>, <music21.note.Note C#>, <music21.note.Note G>, <music21.note.Note B>, <music21.note.Note A>, <music21.note.Note D>, <music21.note.Note F#>, <music21.note.Note E>, <music21.note.Note C#>, <music21.note.Note E>, <music21.note.Note A>, <music21.note.Note G>, <music21.note.Note F#>, <music21.note.Note B>, <music21.note.Note D>, <music21.note.Note C>, <music21.note.Note E>, <music21.note.Note D>, <music21.note.Note E>, <music21.note.Note A>, <music21.note.Note D>, <music21.note.Note F#>, <music21.note.Note A>, <music21.note.Note G>}\n"
     ]
    }
   ],
   "source": [
    "notes_set = collect_all_notes_from_score(score)\n",
    "print(len(notes_set))\n",
    "print(notes_set)\n",
    "flattend_set = set()\n",
    "flatten_frozenset_in_sets(notes_set, flattend_set)\n",
    "print(flattend_set)         #\"issue\": why are there duplicate notes? are they different in pitch/dynamics/...etc.?\n",
    "assert len(flattend_set) != len(notes_set), \"flattend set should exclude repetitive notes in original set\""
   ]
  },
  {
   "cell_type": "markdown",
   "metadata": {},
   "source": [
    "# Notes:\n",
    "* score: either .mxml or pdf(?)\n",
    "* audio: assume a numpy array "
   ]
  }
 ],
 "metadata": {
  "kernelspec": {
   "display_name": "Python 3",
   "language": "python",
   "name": "python3"
  },
  "language_info": {
   "codemirror_mode": {
    "name": "ipython",
    "version": 3
   },
   "file_extension": ".py",
   "mimetype": "text/x-python",
   "name": "python",
   "nbconvert_exporter": "python",
   "pygments_lexer": "ipython3",
   "version": "3.10.12"
  }
 },
 "nbformat": 4,
 "nbformat_minor": 2
}
