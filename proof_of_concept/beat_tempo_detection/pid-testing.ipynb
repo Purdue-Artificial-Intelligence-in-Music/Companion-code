{
 "cells": [
  {
   "cell_type": "code",
   "execution_count": 15,
   "id": "a3a9d7bb",
   "metadata": {},
   "outputs": [],
   "source": [
    "import sys\n",
    "sys.path.append('C:\\\\Users\\\\nketi\\\\anaconda3\\\\envs\\\\beat_detection\\\\Lib\\\\site-packages\\\\controlsystems')"
   ]
  },
  {
   "cell_type": "code",
   "execution_count": 17,
   "id": "5e5fa219",
   "metadata": {},
   "outputs": [
    {
     "ename": "ImportError",
     "evalue": "cannot import name 'Matrix' from 'types' (C:\\Users\\nketi\\anaconda3\\envs\\beat_detection\\Lib\\types.py)",
     "output_type": "error",
     "traceback": [
      "\u001b[1;31m---------------------------------------------------------------------------\u001b[0m",
      "\u001b[1;31mImportError\u001b[0m                               Traceback (most recent call last)",
      "Cell \u001b[1;32mIn[17], line 4\u001b[0m\n\u001b[0;32m      2\u001b[0m \u001b[38;5;28;01mimport\u001b[39;00m \u001b[38;5;21;01mcontrol\u001b[39;00m \u001b[38;5;28;01mas\u001b[39;00m \u001b[38;5;21;01mctrl\u001b[39;00m\n\u001b[0;32m      3\u001b[0m \u001b[38;5;28;01mfrom\u001b[39;00m \u001b[38;5;21;01mcontrolsystems\u001b[39;00m\u001b[38;5;21;01m.\u001b[39;00m\u001b[38;5;21;01mpid_simulation\u001b[39;00m \u001b[38;5;28;01mimport\u001b[39;00m \u001b[38;5;241m*\u001b[39m\n\u001b[1;32m----> 4\u001b[0m \u001b[38;5;28;01mfrom\u001b[39;00m \u001b[38;5;21;01mcontrolsystems\u001b[39;00m\u001b[38;5;21;01m.\u001b[39;00m\u001b[38;5;21;01mdiscretization\u001b[39;00m \u001b[38;5;28;01mimport\u001b[39;00m \u001b[38;5;241m*\u001b[39m\n",
      "File \u001b[1;32m~\\anaconda3\\envs\\beat_detection\\Lib\\site-packages\\controlsystems\\discretization.py:13\u001b[0m\n\u001b[0;32m      8\u001b[0m __all__ \u001b[38;5;241m=\u001b[39m [\u001b[38;5;124m'\u001b[39m\u001b[38;5;124mEuler\u001b[39m\u001b[38;5;124m'\u001b[39m, \u001b[38;5;124m'\u001b[39m\u001b[38;5;124mRungeKutta2\u001b[39m\u001b[38;5;124m'\u001b[39m, \u001b[38;5;124m'\u001b[39m\u001b[38;5;124mRungeKutta3\u001b[39m\u001b[38;5;124m'\u001b[39m, \u001b[38;5;124m'\u001b[39m\u001b[38;5;124mRungeKutta4\u001b[39m\u001b[38;5;124m'\u001b[39m]\n\u001b[0;32m     10\u001b[0m \u001b[38;5;66;03m#TODO: discretize State-Space models too.\u001b[39;00m\n\u001b[0;32m     11\u001b[0m \u001b[38;5;66;03m#TODO: implement more numerical methods\u001b[39;00m\n\u001b[1;32m---> 13\u001b[0m \u001b[38;5;28;01mfrom\u001b[39;00m \u001b[38;5;21;01mtypes\u001b[39;00m \u001b[38;5;28;01mimport\u001b[39;00m Matrix, ZerosMatrix, IdentityMatrix, TransferFunction, StateSpace\n\u001b[0;32m     14\u001b[0m \u001b[38;5;28;01mfrom\u001b[39;00m \u001b[38;5;21;01merror\u001b[39;00m \u001b[38;5;28;01mimport\u001b[39;00m ControlSystemsError\n\u001b[0;32m     16\u001b[0m \u001b[38;5;28;01mdef\u001b[39;00m \u001b[38;5;21mEuler\u001b[39m(g, sample_time, total_time):\n",
      "\u001b[1;31mImportError\u001b[0m: cannot import name 'Matrix' from 'types' (C:\\Users\\nketi\\anaconda3\\envs\\beat_detection\\Lib\\types.py)"
     ]
    }
   ],
   "source": [
    "from simple_pid import PID\n",
    "import control as ctrl\n",
    "from controlsystems.pid_simulation import *\n",
    "from controlsystems.discretization import *"
   ]
  },
  {
   "cell_type": "code",
   "execution_count": 2,
   "id": "65e17064",
   "metadata": {},
   "outputs": [],
   "source": [
    "class Speaker:\n",
    "    def __init__(self):\n",
    "        self.volume = 10\n",
    "        \n",
    "    def update(self, volume, dt):\n",
    "        self.volume += (5 * volume * dt) - (0.05 * dt)"
   ]
  },
  {
   "cell_type": "code",
   "execution_count": 3,
   "id": "faf49d29",
   "metadata": {},
   "outputs": [],
   "source": [
    "pid = PID(1, 0, 0) # Base point for Ziegler-Nichols tuning\n",
    "pid.sample_time = 0.1\n",
    "speaker = Speaker()\n",
    "pid.setpoint = 30"
   ]
  },
  {
   "cell_type": "code",
   "execution_count": 4,
   "id": "477c7eef",
   "metadata": {},
   "outputs": [],
   "source": [
    "g = ctrl.TransferFunction([1], [2, 3])"
   ]
  },
  {
   "cell_type": "code",
   "execution_count": 6,
   "id": "adf2717f",
   "metadata": {},
   "outputs": [
    {
     "ename": "TypeError",
     "evalue": "'str' object is not callable",
     "output_type": "error",
     "traceback": [
      "\u001b[1;31m---------------------------------------------------------------------------\u001b[0m",
      "\u001b[1;31mTypeError\u001b[0m                                 Traceback (most recent call last)",
      "Cell \u001b[1;32mIn[6], line 1\u001b[0m\n\u001b[1;32m----> 1\u001b[0m kp, ki, kd \u001b[38;5;241m=\u001b[39m ZieglerNichols(g, \u001b[38;5;241m0.01\u001b[39m, \u001b[38;5;241m10\u001b[39m, \u001b[38;5;124m\"\u001b[39m\u001b[38;5;124mEuler\u001b[39m\u001b[38;5;124m\"\u001b[39m)\n",
      "File \u001b[1;32m~\\anaconda3\\envs\\beat_detection\\Lib\\site-packages\\controlsystems\\pid_simulation.py:41\u001b[0m, in \u001b[0;36mZieglerNichols\u001b[1;34m(g, sample_time, total_time, n_method)\u001b[0m\n\u001b[0;32m     23\u001b[0m \u001b[38;5;28;01mdef\u001b[39;00m \u001b[38;5;21mZieglerNichols\u001b[39m(g, sample_time, total_time, n_method):\n\u001b[0;32m     24\u001b[0m \u001b[38;5;250m    \u001b[39m\u001b[38;5;124;03m\"\"\"ZieglerNichols tuning method\u001b[39;00m\n\u001b[0;32m     25\u001b[0m \u001b[38;5;124;03m    \u001b[39;00m\n\u001b[0;32m     26\u001b[0m \u001b[38;5;124;03m    Returns the 'kp', 'ki' and 'kd' gains to a PID controller, using\u001b[39;00m\n\u001b[1;32m   (...)\u001b[0m\n\u001b[0;32m     38\u001b[0m \u001b[38;5;124;03m    \u001b[39;00m\n\u001b[0;32m     39\u001b[0m \u001b[38;5;124;03m    \"\"\"\u001b[39;00m\n\u001b[1;32m---> 41\u001b[0m     t, y \u001b[38;5;241m=\u001b[39m n_method(g, sample_time, total_time)\n\u001b[0;32m     43\u001b[0m     k \u001b[38;5;241m=\u001b[39m y[\u001b[38;5;241m-\u001b[39m\u001b[38;5;241m1\u001b[39m]\n\u001b[0;32m     45\u001b[0m     t63 \u001b[38;5;241m=\u001b[39m get_time_near(t, y, \u001b[38;5;241m0.632\u001b[39m\u001b[38;5;241m*\u001b[39mk)\n",
      "\u001b[1;31mTypeError\u001b[0m: 'str' object is not callable"
     ]
    }
   ],
   "source": [
    "kp, ki, kd = ZieglerNichols(g, 0.01, 10, \"Euler\")"
   ]
  },
  {
   "cell_type": "code",
   "execution_count": 7,
   "id": "296c659a",
   "metadata": {},
   "outputs": [
    {
     "name": "stdout",
     "output_type": "stream",
     "text": [
      "Name: controlsystems\n",
      "Version: 1.0rc3\n",
      "Summary: A Python library for the study of the Control Systems\n",
      "Home-page: http://pycontrolsystems.com/\n",
      "Author: Rafael Goncalves Martins\n",
      "Author-email: rafael@rafaelmartins.com\n",
      "License: GPLv2\n",
      "Location: C:\\Users\\nketi\\anaconda3\\envs\\beat_detection\\Lib\\site-packages\n",
      "Requires: \n",
      "Required-by: \n",
      "Note: you may need to restart the kernel to use updated packages.\n"
     ]
    }
   ],
   "source": [
    "pip show controlsystems"
   ]
  }
 ],
 "metadata": {
  "kernelspec": {
   "display_name": "Python 3 (ipykernel)",
   "language": "python",
   "name": "python3"
  },
  "language_info": {
   "codemirror_mode": {
    "name": "ipython",
    "version": 3
   },
   "file_extension": ".py",
   "mimetype": "text/x-python",
   "name": "python",
   "nbconvert_exporter": "python",
   "pygments_lexer": "ipython3",
   "version": "3.11.5"
  }
 },
 "nbformat": 4,
 "nbformat_minor": 5
}
