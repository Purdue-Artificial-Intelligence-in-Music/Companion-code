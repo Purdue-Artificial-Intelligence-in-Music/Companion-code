{
 "cells": [
  {
   "cell_type": "code",
   "execution_count": 6,
   "id": "7ca61c3a",
   "metadata": {},
   "outputs": [],
   "source": [
    "from fastdtw import fastdtw\n",
    "import numpy as np\n",
    "import librosa"
   ]
  },
  {
   "cell_type": "code",
   "execution_count": 9,
   "id": "ddff6d4d",
   "metadata": {},
   "outputs": [
    {
     "name": "stdout",
     "output_type": "stream",
     "text": [
      "4.0\n",
      "[(0, 0), (1, 0), (2, 1), (3, 2), (4, 2)]\n"
     ]
    }
   ],
   "source": [
    "x = np.array([[1,1], [2,2], [3,3], [4,4], [5,5]])\n",
    "y = np.array([[2,2], [3,3], [4,4]])\n",
    "distance, path = fastdtw(x, y)\n",
    "print(distance)\n",
    "print(path)"
   ]
  },
  {
   "cell_type": "code",
   "execution_count": 3,
   "id": "335d83f4",
   "metadata": {},
   "outputs": [
    {
     "data": {
      "text/plain": [
       "list"
      ]
     },
     "execution_count": 3,
     "metadata": {},
     "output_type": "execute_result"
    }
   ],
   "source": [
    "type(path)"
   ]
  },
  {
   "cell_type": "code",
   "execution_count": 10,
   "id": "f7257498",
   "metadata": {},
   "outputs": [
    {
     "ename": "ParameterError",
     "evalue": "Audio data must be floating-point",
     "output_type": "error",
     "traceback": [
      "\u001b[1;31m---------------------------------------------------------------------------\u001b[0m",
      "\u001b[1;31mParameterError\u001b[0m                            Traceback (most recent call last)",
      "Cell \u001b[1;32mIn[10], line 1\u001b[0m\n\u001b[1;32m----> 1\u001b[0m x \u001b[38;5;241m=\u001b[39m librosa\u001b[38;5;241m.\u001b[39mfeature\u001b[38;5;241m.\u001b[39mchroma_cqt(y\u001b[38;5;241m=\u001b[39mx, sr\u001b[38;5;241m=\u001b[39m\u001b[38;5;241m22050\u001b[39m)\n\u001b[0;32m      2\u001b[0m y \u001b[38;5;241m=\u001b[39m librosa\u001b[38;5;241m.\u001b[39mfeature\u001b[38;5;241m.\u001b[39mchroma_cqt(y\u001b[38;5;241m=\u001b[39my, sr\u001b[38;5;241m=\u001b[39m\u001b[38;5;241m22050\u001b[39m)\n",
      "File \u001b[1;32m~\\anaconda3\\envs\\beat_detection\\Lib\\site-packages\\librosa\\feature\\spectral.py:1386\u001b[0m, in \u001b[0;36mchroma_cqt\u001b[1;34m(y, sr, C, hop_length, fmin, norm, threshold, tuning, n_chroma, n_octaves, window, bins_per_octave, cqt_mode)\u001b[0m\n\u001b[0;32m   1381\u001b[0m     \u001b[38;5;28;01mif\u001b[39;00m y \u001b[38;5;129;01mis\u001b[39;00m \u001b[38;5;28;01mNone\u001b[39;00m:\n\u001b[0;32m   1382\u001b[0m         \u001b[38;5;28;01mraise\u001b[39;00m ParameterError(\n\u001b[0;32m   1383\u001b[0m             \u001b[38;5;124m\"\u001b[39m\u001b[38;5;124mAt least one of C or y must be provided to compute chroma\u001b[39m\u001b[38;5;124m\"\u001b[39m\n\u001b[0;32m   1384\u001b[0m         )\n\u001b[0;32m   1385\u001b[0m     C \u001b[38;5;241m=\u001b[39m np\u001b[38;5;241m.\u001b[39mabs(\n\u001b[1;32m-> 1386\u001b[0m         cqt_func[cqt_mode](\n\u001b[0;32m   1387\u001b[0m             y,\n\u001b[0;32m   1388\u001b[0m             sr\u001b[38;5;241m=\u001b[39msr,\n\u001b[0;32m   1389\u001b[0m             hop_length\u001b[38;5;241m=\u001b[39mhop_length,\n\u001b[0;32m   1390\u001b[0m             fmin\u001b[38;5;241m=\u001b[39mfmin,\n\u001b[0;32m   1391\u001b[0m             n_bins\u001b[38;5;241m=\u001b[39mn_octaves \u001b[38;5;241m*\u001b[39m bins_per_octave,\n\u001b[0;32m   1392\u001b[0m             bins_per_octave\u001b[38;5;241m=\u001b[39mbins_per_octave,\n\u001b[0;32m   1393\u001b[0m             tuning\u001b[38;5;241m=\u001b[39mtuning,\n\u001b[0;32m   1394\u001b[0m         )\n\u001b[0;32m   1395\u001b[0m     )\n\u001b[0;32m   1397\u001b[0m \u001b[38;5;66;03m# Map to chroma\u001b[39;00m\n\u001b[0;32m   1398\u001b[0m cq_to_chr \u001b[38;5;241m=\u001b[39m filters\u001b[38;5;241m.\u001b[39mcq_to_chroma(\n\u001b[0;32m   1399\u001b[0m     C\u001b[38;5;241m.\u001b[39mshape[\u001b[38;5;241m-\u001b[39m\u001b[38;5;241m2\u001b[39m],\n\u001b[0;32m   1400\u001b[0m     bins_per_octave\u001b[38;5;241m=\u001b[39mbins_per_octave,\n\u001b[1;32m   (...)\u001b[0m\n\u001b[0;32m   1403\u001b[0m     window\u001b[38;5;241m=\u001b[39mwindow,\n\u001b[0;32m   1404\u001b[0m )\n",
      "File \u001b[1;32m~\\anaconda3\\envs\\beat_detection\\Lib\\site-packages\\librosa\\core\\constantq.py:171\u001b[0m, in \u001b[0;36mcqt\u001b[1;34m(y, sr, hop_length, fmin, n_bins, bins_per_octave, tuning, filter_scale, norm, sparsity, window, scale, pad_mode, res_type, dtype)\u001b[0m\n\u001b[0;32m     46\u001b[0m \u001b[38;5;250m\u001b[39m\u001b[38;5;124;03m\"\"\"Compute the constant-Q transform of an audio signal.\u001b[39;00m\n\u001b[0;32m     47\u001b[0m \n\u001b[0;32m     48\u001b[0m \u001b[38;5;124;03mThis implementation is based on the recursive sub-sampling method\u001b[39;00m\n\u001b[1;32m   (...)\u001b[0m\n\u001b[0;32m    168\u001b[0m \u001b[38;5;124;03m       [5.147e-02, 6.959e-02, ..., 1.694e-05, 5.811e-06]])\u001b[39;00m\n\u001b[0;32m    169\u001b[0m \u001b[38;5;124;03m\"\"\"\u001b[39;00m\n\u001b[0;32m    170\u001b[0m \u001b[38;5;66;03m# CQT is the special case of VQT with gamma=0\u001b[39;00m\n\u001b[1;32m--> 171\u001b[0m \u001b[38;5;28;01mreturn\u001b[39;00m vqt(\n\u001b[0;32m    172\u001b[0m     y\u001b[38;5;241m=\u001b[39my,\n\u001b[0;32m    173\u001b[0m     sr\u001b[38;5;241m=\u001b[39msr,\n\u001b[0;32m    174\u001b[0m     hop_length\u001b[38;5;241m=\u001b[39mhop_length,\n\u001b[0;32m    175\u001b[0m     fmin\u001b[38;5;241m=\u001b[39mfmin,\n\u001b[0;32m    176\u001b[0m     n_bins\u001b[38;5;241m=\u001b[39mn_bins,\n\u001b[0;32m    177\u001b[0m     intervals\u001b[38;5;241m=\u001b[39m\u001b[38;5;124m\"\u001b[39m\u001b[38;5;124mequal\u001b[39m\u001b[38;5;124m\"\u001b[39m,\n\u001b[0;32m    178\u001b[0m     gamma\u001b[38;5;241m=\u001b[39m\u001b[38;5;241m0\u001b[39m,\n\u001b[0;32m    179\u001b[0m     bins_per_octave\u001b[38;5;241m=\u001b[39mbins_per_octave,\n\u001b[0;32m    180\u001b[0m     tuning\u001b[38;5;241m=\u001b[39mtuning,\n\u001b[0;32m    181\u001b[0m     filter_scale\u001b[38;5;241m=\u001b[39mfilter_scale,\n\u001b[0;32m    182\u001b[0m     norm\u001b[38;5;241m=\u001b[39mnorm,\n\u001b[0;32m    183\u001b[0m     sparsity\u001b[38;5;241m=\u001b[39msparsity,\n\u001b[0;32m    184\u001b[0m     window\u001b[38;5;241m=\u001b[39mwindow,\n\u001b[0;32m    185\u001b[0m     scale\u001b[38;5;241m=\u001b[39mscale,\n\u001b[0;32m    186\u001b[0m     pad_mode\u001b[38;5;241m=\u001b[39mpad_mode,\n\u001b[0;32m    187\u001b[0m     res_type\u001b[38;5;241m=\u001b[39mres_type,\n\u001b[0;32m    188\u001b[0m     dtype\u001b[38;5;241m=\u001b[39mdtype,\n\u001b[0;32m    189\u001b[0m )\n",
      "File \u001b[1;32m~\\anaconda3\\envs\\beat_detection\\Lib\\site-packages\\librosa\\core\\constantq.py:929\u001b[0m, in \u001b[0;36mvqt\u001b[1;34m(y, sr, hop_length, fmin, n_bins, intervals, gamma, bins_per_octave, tuning, filter_scale, norm, sparsity, window, scale, pad_mode, res_type, dtype)\u001b[0m\n\u001b[0;32m    926\u001b[0m     fmin \u001b[38;5;241m=\u001b[39m note_to_hz(\u001b[38;5;124m\"\u001b[39m\u001b[38;5;124mC1\u001b[39m\u001b[38;5;124m\"\u001b[39m)\n\u001b[0;32m    928\u001b[0m \u001b[38;5;28;01mif\u001b[39;00m tuning \u001b[38;5;129;01mis\u001b[39;00m \u001b[38;5;28;01mNone\u001b[39;00m:\n\u001b[1;32m--> 929\u001b[0m     tuning \u001b[38;5;241m=\u001b[39m estimate_tuning(y\u001b[38;5;241m=\u001b[39my, sr\u001b[38;5;241m=\u001b[39msr, bins_per_octave\u001b[38;5;241m=\u001b[39mbins_per_octave)\n\u001b[0;32m    931\u001b[0m \u001b[38;5;28;01mif\u001b[39;00m dtype \u001b[38;5;129;01mis\u001b[39;00m \u001b[38;5;28;01mNone\u001b[39;00m:\n\u001b[0;32m    932\u001b[0m     dtype \u001b[38;5;241m=\u001b[39m util\u001b[38;5;241m.\u001b[39mdtype_r2c(y\u001b[38;5;241m.\u001b[39mdtype)\n",
      "File \u001b[1;32m~\\anaconda3\\envs\\beat_detection\\Lib\\site-packages\\librosa\\core\\pitch.py:91\u001b[0m, in \u001b[0;36mestimate_tuning\u001b[1;34m(y, sr, S, n_fft, resolution, bins_per_octave, **kwargs)\u001b[0m\n\u001b[0;32m     24\u001b[0m \u001b[38;5;28;01mdef\u001b[39;00m \u001b[38;5;21mestimate_tuning\u001b[39m(\n\u001b[0;32m     25\u001b[0m     \u001b[38;5;241m*\u001b[39m,\n\u001b[0;32m     26\u001b[0m     y: Optional[np\u001b[38;5;241m.\u001b[39mndarray] \u001b[38;5;241m=\u001b[39m \u001b[38;5;28;01mNone\u001b[39;00m,\n\u001b[1;32m   (...)\u001b[0m\n\u001b[0;32m     32\u001b[0m     \u001b[38;5;241m*\u001b[39m\u001b[38;5;241m*\u001b[39mkwargs: Any,\n\u001b[0;32m     33\u001b[0m ) \u001b[38;5;241m-\u001b[39m\u001b[38;5;241m>\u001b[39m \u001b[38;5;28mfloat\u001b[39m:\n\u001b[0;32m     34\u001b[0m \u001b[38;5;250m    \u001b[39m\u001b[38;5;124;03m\"\"\"Estimate the tuning of an audio time series or spectrogram input.\u001b[39;00m\n\u001b[0;32m     35\u001b[0m \n\u001b[0;32m     36\u001b[0m \u001b[38;5;124;03m    Parameters\u001b[39;00m\n\u001b[1;32m   (...)\u001b[0m\n\u001b[0;32m     89\u001b[0m \u001b[38;5;124;03m    -0.08000000000000002\u001b[39;00m\n\u001b[0;32m     90\u001b[0m \u001b[38;5;124;03m    \"\"\"\u001b[39;00m\n\u001b[1;32m---> 91\u001b[0m     pitch, mag \u001b[38;5;241m=\u001b[39m piptrack(y\u001b[38;5;241m=\u001b[39my, sr\u001b[38;5;241m=\u001b[39msr, S\u001b[38;5;241m=\u001b[39mS, n_fft\u001b[38;5;241m=\u001b[39mn_fft, \u001b[38;5;241m*\u001b[39m\u001b[38;5;241m*\u001b[39mkwargs)\n\u001b[0;32m     93\u001b[0m     \u001b[38;5;66;03m# Only count magnitude where frequency is > 0\u001b[39;00m\n\u001b[0;32m     94\u001b[0m     pitch_mask \u001b[38;5;241m=\u001b[39m pitch \u001b[38;5;241m>\u001b[39m \u001b[38;5;241m0\u001b[39m\n",
      "File \u001b[1;32m~\\anaconda3\\envs\\beat_detection\\Lib\\site-packages\\librosa\\core\\pitch.py:303\u001b[0m, in \u001b[0;36mpiptrack\u001b[1;34m(y, sr, S, n_fft, hop_length, fmin, fmax, threshold, win_length, window, center, pad_mode, ref)\u001b[0m\n\u001b[0;32m    195\u001b[0m \u001b[38;5;250m\u001b[39m\u001b[38;5;124;03m\"\"\"Pitch tracking on thresholded parabolically-interpolated STFT.\u001b[39;00m\n\u001b[0;32m    196\u001b[0m \n\u001b[0;32m    197\u001b[0m \u001b[38;5;124;03mThis implementation uses the parabolic interpolation method described by [#]_.\u001b[39;00m\n\u001b[1;32m   (...)\u001b[0m\n\u001b[0;32m    300\u001b[0m \u001b[38;5;124;03m...                                        ref=np.mean)\u001b[39;00m\n\u001b[0;32m    301\u001b[0m \u001b[38;5;124;03m\"\"\"\u001b[39;00m\n\u001b[0;32m    302\u001b[0m \u001b[38;5;66;03m# Check that we received an audio time series or STFT\u001b[39;00m\n\u001b[1;32m--> 303\u001b[0m S, n_fft \u001b[38;5;241m=\u001b[39m _spectrogram(\n\u001b[0;32m    304\u001b[0m     y\u001b[38;5;241m=\u001b[39my,\n\u001b[0;32m    305\u001b[0m     S\u001b[38;5;241m=\u001b[39mS,\n\u001b[0;32m    306\u001b[0m     n_fft\u001b[38;5;241m=\u001b[39mn_fft,\n\u001b[0;32m    307\u001b[0m     hop_length\u001b[38;5;241m=\u001b[39mhop_length,\n\u001b[0;32m    308\u001b[0m     win_length\u001b[38;5;241m=\u001b[39mwin_length,\n\u001b[0;32m    309\u001b[0m     window\u001b[38;5;241m=\u001b[39mwindow,\n\u001b[0;32m    310\u001b[0m     center\u001b[38;5;241m=\u001b[39mcenter,\n\u001b[0;32m    311\u001b[0m     pad_mode\u001b[38;5;241m=\u001b[39mpad_mode,\n\u001b[0;32m    312\u001b[0m )\n\u001b[0;32m    314\u001b[0m \u001b[38;5;66;03m# Make sure we're dealing with magnitudes\u001b[39;00m\n\u001b[0;32m    315\u001b[0m S \u001b[38;5;241m=\u001b[39m np\u001b[38;5;241m.\u001b[39mabs(S)\n",
      "File \u001b[1;32m~\\anaconda3\\envs\\beat_detection\\Lib\\site-packages\\librosa\\core\\spectrum.py:2822\u001b[0m, in \u001b[0;36m_spectrogram\u001b[1;34m(y, S, n_fft, hop_length, power, win_length, window, center, pad_mode)\u001b[0m\n\u001b[0;32m   2816\u001b[0m     \u001b[38;5;28;01mif\u001b[39;00m y \u001b[38;5;129;01mis\u001b[39;00m \u001b[38;5;28;01mNone\u001b[39;00m:\n\u001b[0;32m   2817\u001b[0m         \u001b[38;5;28;01mraise\u001b[39;00m ParameterError(\n\u001b[0;32m   2818\u001b[0m             \u001b[38;5;124m\"\u001b[39m\u001b[38;5;124mInput signal must be provided to compute a spectrogram\u001b[39m\u001b[38;5;124m\"\u001b[39m\n\u001b[0;32m   2819\u001b[0m         )\n\u001b[0;32m   2820\u001b[0m     S \u001b[38;5;241m=\u001b[39m (\n\u001b[0;32m   2821\u001b[0m         np\u001b[38;5;241m.\u001b[39mabs(\n\u001b[1;32m-> 2822\u001b[0m             stft(\n\u001b[0;32m   2823\u001b[0m                 y,\n\u001b[0;32m   2824\u001b[0m                 n_fft\u001b[38;5;241m=\u001b[39mn_fft,\n\u001b[0;32m   2825\u001b[0m                 hop_length\u001b[38;5;241m=\u001b[39mhop_length,\n\u001b[0;32m   2826\u001b[0m                 win_length\u001b[38;5;241m=\u001b[39mwin_length,\n\u001b[0;32m   2827\u001b[0m                 center\u001b[38;5;241m=\u001b[39mcenter,\n\u001b[0;32m   2828\u001b[0m                 window\u001b[38;5;241m=\u001b[39mwindow,\n\u001b[0;32m   2829\u001b[0m                 pad_mode\u001b[38;5;241m=\u001b[39mpad_mode,\n\u001b[0;32m   2830\u001b[0m             )\n\u001b[0;32m   2831\u001b[0m         )\n\u001b[0;32m   2832\u001b[0m         \u001b[38;5;241m*\u001b[39m\u001b[38;5;241m*\u001b[39m power\n\u001b[0;32m   2833\u001b[0m     )\n\u001b[0;32m   2835\u001b[0m \u001b[38;5;28;01mreturn\u001b[39;00m S, n_fft\n",
      "File \u001b[1;32m~\\anaconda3\\envs\\beat_detection\\Lib\\site-packages\\librosa\\core\\spectrum.py:230\u001b[0m, in \u001b[0;36mstft\u001b[1;34m(y, n_fft, hop_length, win_length, window, center, dtype, pad_mode, out)\u001b[0m\n\u001b[0;32m    227\u001b[0m     \u001b[38;5;28;01mraise\u001b[39;00m ParameterError(\u001b[38;5;124mf\u001b[39m\u001b[38;5;124m\"\u001b[39m\u001b[38;5;124mhop_length=\u001b[39m\u001b[38;5;132;01m{\u001b[39;00mhop_length\u001b[38;5;132;01m}\u001b[39;00m\u001b[38;5;124m must be a positive integer\u001b[39m\u001b[38;5;124m\"\u001b[39m)\n\u001b[0;32m    229\u001b[0m \u001b[38;5;66;03m# Check audio is valid\u001b[39;00m\n\u001b[1;32m--> 230\u001b[0m util\u001b[38;5;241m.\u001b[39mvalid_audio(y, mono\u001b[38;5;241m=\u001b[39m\u001b[38;5;28;01mFalse\u001b[39;00m)\n\u001b[0;32m    232\u001b[0m fft_window \u001b[38;5;241m=\u001b[39m get_window(window, win_length, fftbins\u001b[38;5;241m=\u001b[39m\u001b[38;5;28;01mTrue\u001b[39;00m)\n\u001b[0;32m    234\u001b[0m \u001b[38;5;66;03m# Pad the window out to n_fft size\u001b[39;00m\n",
      "File \u001b[1;32m~\\anaconda3\\envs\\beat_detection\\Lib\\site-packages\\librosa\\util\\utils.py:298\u001b[0m, in \u001b[0;36mvalid_audio\u001b[1;34m(y, mono)\u001b[0m\n\u001b[0;32m    295\u001b[0m     \u001b[38;5;28;01mraise\u001b[39;00m ParameterError(\u001b[38;5;124m\"\u001b[39m\u001b[38;5;124mAudio data must be of type numpy.ndarray\u001b[39m\u001b[38;5;124m\"\u001b[39m)\n\u001b[0;32m    297\u001b[0m \u001b[38;5;28;01mif\u001b[39;00m \u001b[38;5;129;01mnot\u001b[39;00m np\u001b[38;5;241m.\u001b[39missubdtype(y\u001b[38;5;241m.\u001b[39mdtype, np\u001b[38;5;241m.\u001b[39mfloating):\n\u001b[1;32m--> 298\u001b[0m     \u001b[38;5;28;01mraise\u001b[39;00m ParameterError(\u001b[38;5;124m\"\u001b[39m\u001b[38;5;124mAudio data must be floating-point\u001b[39m\u001b[38;5;124m\"\u001b[39m)\n\u001b[0;32m    300\u001b[0m \u001b[38;5;28;01mif\u001b[39;00m y\u001b[38;5;241m.\u001b[39mndim \u001b[38;5;241m==\u001b[39m \u001b[38;5;241m0\u001b[39m:\n\u001b[0;32m    301\u001b[0m     \u001b[38;5;28;01mraise\u001b[39;00m ParameterError(\n\u001b[0;32m    302\u001b[0m         \u001b[38;5;124mf\u001b[39m\u001b[38;5;124m\"\u001b[39m\u001b[38;5;124mAudio data must be at least one-dimensional, given y.shape=\u001b[39m\u001b[38;5;132;01m{\u001b[39;00my\u001b[38;5;241m.\u001b[39mshape\u001b[38;5;132;01m}\u001b[39;00m\u001b[38;5;124m\"\u001b[39m\n\u001b[0;32m    303\u001b[0m     )\n",
      "\u001b[1;31mParameterError\u001b[0m: Audio data must be floating-point"
     ]
    }
   ],
   "source": [
    "x = librosa.feature.chroma_cqt(y=x, sr=22050)\n",
    "y = librosa.feature.chroma_cqt(y=y, sr=22050)"
   ]
  },
  {
   "cell_type": "code",
   "execution_count": null,
   "id": "189e6f03",
   "metadata": {},
   "outputs": [],
   "source": [
    "new_mic_data = np.hstack((chroma_mic, np.zeros((chroma_mic.shape[0], wav_data.shape[1] - chroma_mic.shape[1]))))"
   ]
  }
 ],
 "metadata": {
  "kernelspec": {
   "display_name": "Python 3 (ipykernel)",
   "language": "python",
   "name": "python3"
  },
  "language_info": {
   "codemirror_mode": {
    "name": "ipython",
    "version": 3
   },
   "file_extension": ".py",
   "mimetype": "text/x-python",
   "name": "python",
   "nbconvert_exporter": "python",
   "pygments_lexer": "ipython3",
   "version": "3.11.5"
  }
 },
 "nbformat": 4,
 "nbformat_minor": 5
}
