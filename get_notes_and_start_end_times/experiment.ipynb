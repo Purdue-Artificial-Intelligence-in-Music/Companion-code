{
 "cells": [
  {
   "cell_type": "markdown",
   "metadata": {},
   "source": [
    "# Parsing score with music21\n",
    "* Goal: parse a score and put all notes involved into a python set"
   ]
  },
  {
   "cell_type": "code",
   "execution_count": 12,
   "metadata": {},
   "outputs": [],
   "source": [
    "from music21 import *\n",
    "import numpy as np\n",
    "import math\n",
    "import os\n",
    "import time"
   ]
  },
  {
   "cell_type": "code",
   "execution_count": 13,
   "metadata": {},
   "outputs": [],
   "source": [
    "score = converter.parse('bourree.xml')"
   ]
  },
  {
   "cell_type": "code",
   "execution_count": 14,
   "metadata": {},
   "outputs": [
    {
     "data": {
      "text/plain": [
       "<music21.key.Key of G major>"
      ]
     },
     "execution_count": 14,
     "metadata": {},
     "output_type": "execute_result"
    }
   ],
   "source": [
    "score.analyze('key')"
   ]
  },
  {
   "cell_type": "markdown",
   "metadata": {},
   "source": [
    "## Finding number of Measures in score\n"
   ]
  },
  {
   "cell_type": "code",
   "execution_count": 15,
   "metadata": {},
   "outputs": [
    {
     "name": "stdout",
     "output_type": "stream",
     "text": [
      "<music21.stream.iterator.StreamIterator for Score:0x7f84da6d4810 @:0>\n",
      "1\n",
      "there are 1 part(s) in score.parts\n",
      "<music21.stream.Part Part 1>\n"
     ]
    }
   ],
   "source": [
    "print(score.parts)\n",
    "print(len(score.parts))\n",
    "print(f'there are {len(score.parts)} part(s) in score.parts')\n",
    "for item in score.parts:\n",
    "    print(item)\n",
    "# for i in range(len(score.parts)):\n",
    "#     print(score.parts[i]) "
   ]
  },
  {
   "cell_type": "code",
   "execution_count": 16,
   "metadata": {},
   "outputs": [
    {
     "name": "stdout",
     "output_type": "stream",
     "text": [
      "there are 24 element(s) in part\n",
      "item 1 : P1: Part 1: \n",
      "item 2 : <music21.stream.Measure 1 offset=0.0>\n",
      "item 3 : <music21.spanner.Slur <music21.note.Note D><music21.note.Note B>>\n",
      "item 4 : <music21.spanner.Slur <music21.note.Note B><music21.note.Note B>>\n",
      "item 5 : <music21.dynamics.Crescendo <music21.note.Note E><music21.note.Note G>>\n",
      "item 6 : <music21.spanner.Slur <music21.note.Note E><music21.note.Note D>>\n",
      "item 7 : <music21.spanner.Slur <music21.note.Note C><music21.note.Note B>>\n",
      "item 8 : <music21.spanner.Slur <music21.note.Note B><music21.note.Note G>>\n",
      "item 9 : <music21.dynamics.Crescendo <music21.note.Note B><music21.note.Note G>>\n",
      "item 10 : <music21.spanner.Slur <music21.note.Note A><music21.note.Note C#>>\n",
      "item 11 : <music21.spanner.Slur <music21.note.Note A><music21.note.Note C#>>\n",
      "item 12 : <music21.dynamics.Diminuendo <music21.note.Note D><music21.note.Rest 16th>>\n",
      "item 13 : <music21.spanner.Slur <music21.note.Note D><music21.note.Note B>>\n",
      "item 14 : <music21.spanner.Slur <music21.note.Note C><music21.note.Note B>>\n",
      "item 15 : <music21.spanner.Slur <music21.note.Note B><music21.note.Note G>>\n",
      "item 16 : <music21.stream.Measure 2 offset=1.0>\n",
      "item 17 : <music21.stream.Measure 3 offset=5.0>\n",
      "item 18 : <music21.stream.Measure 4 offset=9.0>\n",
      "item 19 : <music21.stream.Measure 5 offset=13.0>\n",
      "item 20 : <music21.stream.Measure 6 offset=17.0>\n",
      "item 21 : <music21.stream.Measure 7 offset=21.0>\n",
      "item 22 : <music21.stream.Measure 8 offset=25.0>\n",
      "item 23 : <music21.stream.Measure 9 offset=29.0>\n",
      "item 24 : <music21.stream.Measure 10 offset=33.0>\n"
     ]
    }
   ],
   "source": [
    "# isolate out the only part (聲部)\n",
    "part = score.parts[0]\n",
    "print(f'there are {len(part)} element(s) in part')\n",
    "for i,item in enumerate(part, 1):\n",
    "    print(f'item {i} : {item}') "
   ]
  },
  {
   "cell_type": "code",
   "execution_count": 17,
   "metadata": {},
   "outputs": [
    {
     "name": "stdout",
     "output_type": "stream",
     "text": [
      "there are 10 measures in score\n"
     ]
    }
   ],
   "source": [
    "\"\"\"playing with Isaac's Code: verified is correct, but how does the math work?\"\"\"\n",
    "# score: a stream object that can contain multiple streams\n",
    "beats = score.getTimeSignatures(recurse=False)[0].denominator       #retrieve the time signature of object score and save only the denominator (duration of each beat)\n",
    "num_measures = int(math.ceil(score.highestTime / beats))            #find the when the last note finishes playing in object stream, divide it by duration of each beat, and take the ceiling\n",
    "print(f'there are {num_measures} measures in score')"
   ]
  },
  {
   "cell_type": "markdown",
   "metadata": {},
   "source": [
    "## Collect all notes from all measures in a score"
   ]
  },
  {
   "cell_type": "markdown",
   "metadata": {},
   "source": [
    "### printing all notes from all measures (attempt1)"
   ]
  },
  {
   "cell_type": "code",
   "execution_count": 18,
   "metadata": {},
   "outputs": [
    {
     "name": "stdout",
     "output_type": "stream",
     "text": [
      "measure 1:\n",
      "\t<music21.note.Note D>\n",
      "measure 2:\n",
      "\t<music21.note.Note D>\n",
      "\t<music21.note.Note B>\n",
      "\t<music21.note.Note C>\n",
      "\t<music21.note.Note B>\n",
      "\t<music21.note.Note A>\n",
      "\t<music21.note.Note G>\n",
      "measure 3:\n",
      "\t<music21.note.Note E>\n",
      "\t<music21.note.Note G>\n",
      "\t<music21.note.Note F#>\n",
      "\t<music21.note.Note E>\n",
      "measure 4:\n",
      "\t<music21.note.Note D>\n",
      "\t<music21.note.Note C>\n",
      "\t<music21.note.Note B>\n",
      "\t<music21.note.Note A>\n",
      "\t<music21.note.Note B>\n",
      "\t<music21.note.Note C>\n",
      "\t<music21.note.Note A>\n",
      "measure 5:\n",
      "\t<music21.note.Note B>\n",
      "\t<music21.note.Note G>\n",
      "\t<music21.note.Note A>\n",
      "measure 6:\n",
      "\t<music21.note.Note B>\n",
      "\t<music21.note.Note C#>\n",
      "\t<music21.note.Note D>\n",
      "\t<music21.note.Note B>\n",
      "\t<music21.note.Note C#>\n",
      "\t<music21.note.Note D>\n",
      "\t<music21.note.Note E>\n",
      "\t<music21.note.Note C#>\n",
      "measure 7:\n",
      "\t<music21.note.Note D>\n",
      "\t<music21.note.Note E>\n",
      "\t<music21.note.Note F#>\n",
      "\t<music21.note.Note D>\n",
      "\t<music21.note.Note E>\n",
      "\t<music21.note.Note F#>\n",
      "\t<music21.note.Note G>\n",
      "\t<music21.note.Note E>\n",
      "measure 8:\n",
      "\t<music21.note.Note F#>\n",
      "\t<music21.note.Note G>\n",
      "\t<music21.note.Note A>\n",
      "\t<music21.note.Note A>\n",
      "\t<music21.note.Note C#>\n",
      "measure 9:\n",
      "\t<music21.note.Note D>\n",
      "\t<music21.note.Note D>\n",
      "measure 10:\n",
      "\t<music21.note.Note D>\n",
      "\t<music21.note.Note B>\n",
      "\t<music21.note.Note C>\n",
      "\t<music21.note.Note B>\n",
      "\t<music21.note.Note A>\n",
      "\t<music21.note.Note G>\n"
     ]
    }
   ],
   "source": [
    "# measures start with index 1 and can be accessed from score.measure(measure_num)\n",
    "\n",
    "for i in range(1, num_measures+1, 1):\n",
    "    measure_notes = part.measure(i).notes       #note in this example there is only one part, so this is working\n",
    "    print(f'measure {i}:')\n",
    "    for note in measure_notes:\n",
    "        print(f'\\t{note}')"
   ]
  },
  {
   "cell_type": "markdown",
   "metadata": {},
   "source": [
    "## Collecting all notes from a measure and put them into a set"
   ]
  },
  {
   "cell_type": "code",
   "execution_count": 19,
   "metadata": {},
   "outputs": [],
   "source": [
    "\"\"\"\n",
    "    input:  measure (music21.stream.Measure)\n",
    "    output: (set(music21.note.Note)): a set containing all notes present in the mxml file\n",
    "\"\"\"\n",
    "def collect_all_notes_from_measure(measure):\n",
    "    return frozenset(note for note in measure.notes)"
   ]
  },
  {
   "cell_type": "markdown",
   "metadata": {},
   "source": [
    "> compute the number of measures from a score"
   ]
  },
  {
   "cell_type": "code",
   "execution_count": 20,
   "metadata": {},
   "outputs": [],
   "source": [
    "\"\"\"Isacc's code refactored into a function: but still do not know how does the math works\"\"\"\n",
    "def find_num_measures_in_score(score):\n",
    "    #might have to iterate through this part if there are multiple time signatures in a given score\n",
    "    # beats = [timeSig.denominator for timeSig in score.getTimeSignatures(recurse=False)]   #the multiple time sig version\n",
    "    beats = score.getTimeSignatures(recurse=False)[0].denominator       \n",
    "    num_measures = int(math.ceil(score.highestTime / beats))\n",
    "    return num_measures"
   ]
  },
  {
   "cell_type": "markdown",
   "metadata": {},
   "source": [
    "> given score, get all notes from all parts which each contains different measures"
   ]
  },
  {
   "cell_type": "code",
   "execution_count": 25,
   "metadata": {},
   "outputs": [],
   "source": [
    "\"\"\"\n",
    "input: score (music21.stream.Score)\n",
    "output: all_notes (set(music21.stream.Note))\n",
    "\"\"\"\n",
    "def collect_all_notes_from_score(score):\n",
    "    all_notes = set()\n",
    "    for part in score.parts:\n",
    "        num_measures = find_num_measures_in_score(part)\n",
    "        for i in range(1, num_measures+1, 1):\n",
    "            all_notes.add(collect_all_notes_from_measure(part.measure(i)))\n",
    "    return all_notes"
   ]
  },
  {
   "cell_type": "markdown",
   "metadata": {},
   "source": [
    "> flattenning set"
   ]
  },
  {
   "cell_type": "code",
   "execution_count": 26,
   "metadata": {},
   "outputs": [],
   "source": [
    "def flatten_frozenset_in_sets(input_set:set, final:set) -> set:\n",
    "    for elem in input_set:\n",
    "        if type(elem) == frozenset:\n",
    "            flatten_frozenset_in_sets(set(elem), final)\n",
    "        else:\n",
    "            final.add(elem)"
   ]
  },
  {
   "cell_type": "markdown",
   "metadata": {},
   "source": [
    "## Driver/test code for note collection from a given score"
   ]
  },
  {
   "cell_type": "code",
   "execution_count": 27,
   "metadata": {},
   "outputs": [
    {
     "name": "stdout",
     "output_type": "stream",
     "text": [
      "10\n",
      "{frozenset({<music21.note.Note B>, <music21.note.Note B>, <music21.note.Note C>, <music21.note.Note D>, <music21.note.Note C>, <music21.note.Note A>, <music21.note.Note A>}), frozenset({<music21.note.Note D>, <music21.note.Note C>, <music21.note.Note A>, <music21.note.Note G>, <music21.note.Note B>, <music21.note.Note B>}), frozenset({<music21.note.Note B>, <music21.note.Note G>, <music21.note.Note A>}), frozenset({<music21.note.Note F#>, <music21.note.Note E>, <music21.note.Note D>, <music21.note.Note D>, <music21.note.Note F#>, <music21.note.Note E>, <music21.note.Note G>, <music21.note.Note E>}), frozenset({<music21.note.Note B>, <music21.note.Note C>, <music21.note.Note G>, <music21.note.Note D>, <music21.note.Note A>, <music21.note.Note B>}), frozenset({<music21.note.Note E>, <music21.note.Note F#>, <music21.note.Note G>, <music21.note.Note E>}), frozenset({<music21.note.Note C#>, <music21.note.Note B>, <music21.note.Note D>, <music21.note.Note C#>, <music21.note.Note D>, <music21.note.Note B>, <music21.note.Note C#>, <music21.note.Note E>}), frozenset({<music21.note.Note D>, <music21.note.Note D>}), frozenset({<music21.note.Note D>}), frozenset({<music21.note.Note F#>, <music21.note.Note A>, <music21.note.Note C#>, <music21.note.Note G>, <music21.note.Note A>})}\n",
      "{<music21.note.Note D>, <music21.note.Note C>, <music21.note.Note D>, <music21.note.Note B>, <music21.note.Note D>, <music21.note.Note C>, <music21.note.Note F#>, <music21.note.Note B>, <music21.note.Note B>, <music21.note.Note C#>, <music21.note.Note A>, <music21.note.Note B>, <music21.note.Note C#>, <music21.note.Note B>, <music21.note.Note D>, <music21.note.Note G>, <music21.note.Note A>, <music21.note.Note D>, <music21.note.Note A>, <music21.note.Note A>, <music21.note.Note B>, <music21.note.Note C#>, <music21.note.Note E>, <music21.note.Note E>, <music21.note.Note E>, <music21.note.Note A>, <music21.note.Note C>, <music21.note.Note F#>, <music21.note.Note D>, <music21.note.Note D>, <music21.note.Note D>, <music21.note.Note D>, <music21.note.Note G>, <music21.note.Note B>, <music21.note.Note A>, <music21.note.Note F#>, <music21.note.Note E>, <music21.note.Note F#>, <music21.note.Note C>, <music21.note.Note B>, <music21.note.Note G>, <music21.note.Note C#>, <music21.note.Note B>, <music21.note.Note A>, <music21.note.Note G>, <music21.note.Note E>, <music21.note.Note G>, <music21.note.Note G>, <music21.note.Note D>, <music21.note.Note E>}\n"
     ]
    }
   ],
   "source": [
    "notes_set = collect_all_notes_from_score(score)\n",
    "print(len(notes_set))\n",
    "print(notes_set)\n",
    "flattend_set = set()\n",
    "flatten_frozenset_in_sets(notes_set, flattend_set)\n",
    "print(flattend_set)         #\"issue\": why are there duplicate notes? are they different in pitch/dynamics/...etc.?\n",
    "assert len(flattend_set) != len(notes_set), \"flattend set should exclude repetitive notes in original set\""
   ]
  },
  {
   "cell_type": "markdown",
   "metadata": {},
   "source": [
    "# Notes:\n",
    "* score: either .mxml or pdf(?)\n",
    "* audio: assume a numpy array "
   ]
  },
  {
   "cell_type": "markdown",
   "metadata": {},
   "source": [
    "# Parsing Audio"
   ]
  },
  {
   "cell_type": "markdown",
   "metadata": {},
   "source": [
    "## Q-transform"
   ]
  },
  {
   "cell_type": "code",
   "execution_count": 1,
   "metadata": {},
   "outputs": [],
   "source": [
    "import librosa\n",
    "import matplotlib.pyplot as plt\n",
    "import numpy as np"
   ]
  },
  {
   "cell_type": "code",
   "execution_count": 2,
   "metadata": {},
   "outputs": [
    {
     "data": {
      "text/plain": [
       "22050"
      ]
     },
     "execution_count": 2,
     "metadata": {},
     "output_type": "execute_result"
    }
   ],
   "source": [
    "# Loading audio\n",
    "audio, sr = librosa.load('Abide by Me.wav')\n",
    "sr "
   ]
  },
  {
   "cell_type": "code",
   "execution_count": 3,
   "metadata": {},
   "outputs": [
    {
     "data": {
      "text/plain": [
       "811264"
      ]
     },
     "execution_count": 3,
     "metadata": {},
     "output_type": "execute_result"
    }
   ],
   "source": [
    "n_samples = len(audio)\n",
    "n_samples"
   ]
  },
  {
   "cell_type": "markdown",
   "metadata": {},
   "source": [
    "## Generate and plot a constant-Q power spectrum"
   ]
  },
  {
   "cell_type": "code",
   "execution_count": 35,
   "metadata": {},
   "outputs": [],
   "source": [
    "y = audio.copy()\n",
    "min_freq = 130.8        #by inspecting test_parse_score\n",
    "n_bins = 12             #12-tones (C, C#, D, D#,...B) per octave\n",
    "\n",
    "# Constant Q transform from librosa library\n",
    "C = np.abs(librosa.cqt(y, sr=sr, n_bins=n_bins, fmin=min_freq))"
   ]
  },
  {
   "cell_type": "code",
   "execution_count": 36,
   "metadata": {},
   "outputs": [
    {
     "name": "stdout",
     "output_type": "stream",
     "text": [
      "<class 'numpy.ndarray'>\n",
      "(12, 1585)\n",
      "12\n"
     ]
    },
    {
     "data": {
      "text/plain": [
       "array([[1.2861622e-03, 1.0893173e-03, 4.5142278e-05],\n",
       "       [1.0931247e-03, 1.2998125e-03, 1.0456471e-03],\n",
       "       [7.6908793e-04, 1.0942091e-03, 7.7534362e-04]], dtype=float32)"
      ]
     },
     "execution_count": 36,
     "metadata": {},
     "output_type": "execute_result"
    }
   ],
   "source": [
    "print(type(C))\n",
    "print(C.shape)\n",
    "print(len(C))\n",
    "C[:3,:3]"
   ]
  },
  {
   "cell_type": "code",
   "execution_count": 37,
   "metadata": {},
   "outputs": [
    {
     "data": {
      "text/plain": [
       "<matplotlib.colorbar.Colorbar at 0x7fa7c84a71d0>"
      ]
     },
     "execution_count": 37,
     "metadata": {},
     "output_type": "execute_result"
    },
    {
     "data": {
      "image/png": "[encoded data removed]",
      "text/plain": [
       "<Figure size 640x480 with 2 Axes>"
      ]
     },
     "metadata": {},
     "output_type": "display_data"
    }
   ],
   "source": [
    "# plotting chromagram\n",
    "fig, ax = plt.subplots()\n",
    "img = librosa.display.specshow(librosa.amplitude_to_db(C, ref=np.max),\n",
    "                               sr=sr, x_axis='time', y_axis='cqt_note', ax=ax)\n",
    "ax.set_title('Constant-Q power spectrum')\n",
    "fig.colorbar(img, ax=ax, format=\"%+2.0f dB\")                           "
   ]
  },
  {
   "cell_type": "markdown",
   "metadata": {},
   "source": [
    "## Chroma CQT"
   ]
  },
  {
   "cell_type": "code",
   "execution_count": 10,
   "metadata": {},
   "outputs": [],
   "source": [
    "chroma_cq = librosa.feature.chroma_cqt(y=y, sr=sr)"
   ]
  },
  {
   "cell_type": "code",
   "execution_count": 26,
   "metadata": {},
   "outputs": [
    {
     "name": "stdout",
     "output_type": "stream",
     "text": [
      "<class 'numpy.ndarray'>\n",
      "(12, 1585)\n"
     ]
    },
    {
     "data": {
      "text/plain": [
       "array([[0.47132063, 0.23858775, 0.16272403],\n",
       "       [0.7094639 , 0.33236855, 0.16550869],\n",
       "       [1.        , 1.        , 0.8611724 ]], dtype=float32)"
      ]
     },
     "execution_count": 26,
     "metadata": {},
     "output_type": "execute_result"
    }
   ],
   "source": [
    "print(type(chroma_cq))\n",
    "print(chroma_cq.shape)\n",
    "chroma_cq[:3, :3]"
   ]
  },
  {
   "cell_type": "code",
   "execution_count": 11,
   "metadata": {},
   "outputs": [
    {
     "data": {
      "text/plain": [
       "<matplotlib.colorbar.Colorbar at 0x7fa7d25571d0>"
      ]
     },
     "execution_count": 11,
     "metadata": {},
     "output_type": "execute_result"
    },
    {
     "data": {
      "image/png": "[encoded data removed]",
      "text/plain": [
       "<Figure size 640x480 with 2 Axes>"
      ]
     },
     "metadata": {},
     "output_type": "display_data"
    }
   ],
   "source": [
    "# plotting\n",
    "fig1, ax1 = plt.subplots()\n",
    "img = librosa.display.specshow(chroma_cq, y_axis='chroma', x_axis='time', ax=ax1)\n",
    "ax1.set(title='chroma_cqt')\n",
    "fig1.colorbar(img, ax=ax1)\n"
   ]
  }
 ],
 "metadata": {
  "kernelspec": {
   "display_name": "Python 3",
   "language": "python",
   "name": "python3"
  },
  "language_info": {
   "codemirror_mode": {
    "name": "ipython",
    "version": 3
   },
   "file_extension": ".py",
   "mimetype": "text/x-python",
   "name": "python",
   "nbconvert_exporter": "python",
   "pygments_lexer": "ipython3",
   "version": "3.11.5"
  }
 },
 "nbformat": 4,
 "nbformat_minor": 2
}
