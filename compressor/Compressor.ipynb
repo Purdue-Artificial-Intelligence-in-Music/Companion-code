{
 "cells": [
  {
   "cell_type": "code",
   "execution_count": 5,
   "id": "initial_id",
   "metadata": {
    "collapsed": true,
    "ExecuteTime": {
     "end_time": "2023-11-12T22:19:56.340570Z",
     "start_time": "2023-11-12T22:19:56.320553100Z"
    }
   },
   "outputs": [],
   "source": [
    "import wave\n",
    "import wavio\n",
    "import numpy as np\n",
    "\n",
    "y = wavio.read(\"C:\\\\Users\\\\TPNml\\\\Downloads\\\\chinese idk.wav\").data[:, 0]"
   ]
  },
  {
   "cell_type": "code",
   "execution_count": 7,
   "outputs": [
    {
     "data": {
      "text/plain": "array([ 918, 1032, 1109, 1157, 1185, 1196, 1194, 1181, 1154, 1114],\n      dtype=int16)"
     },
     "execution_count": 7,
     "metadata": {},
     "output_type": "execute_result"
    }
   ],
   "source": [
    "y[9990:10000]"
   ],
   "metadata": {
    "collapsed": false,
    "ExecuteTime": {
     "end_time": "2023-11-12T22:20:07.879415300Z",
     "start_time": "2023-11-12T22:20:07.868984200Z"
    }
   },
   "id": "27a6a0e3a8508456"
  },
  {
   "cell_type": "code",
   "execution_count": null,
   "outputs": [],
   "source": [
    "def compressor(data, chunk_size):\n",
    "    out = np.zeros((0,), dtype=np.dtype(y))\n",
    "    for i in range(int(np.floor_divide(len(data), chunk_size)) - 1):\n",
    "        curr_chunk = data[i*chunk_size : (i+1)*chunk_size]\n",
    "        next_chunk = data[(i+1)*chunk_size : (i+2)*chunk_size]\n",
    "        \n",
    "        # Do some processing on next_chunk\n",
    "        \n",
    "        # Add next_chunk to out\n",
    "        np.append(out, next_chunk)\n",
    "    return out"
   ],
   "metadata": {
    "collapsed": false
   },
   "id": "573ef526117b4a7"
  }
 ],
 "metadata": {
  "kernelspec": {
   "display_name": "Python 3",
   "language": "python",
   "name": "python3"
  },
  "language_info": {
   "codemirror_mode": {
    "name": "ipython",
    "version": 2
   },
   "file_extension": ".py",
   "mimetype": "text/x-python",
   "name": "python",
   "nbconvert_exporter": "python",
   "pygments_lexer": "ipython2",
   "version": "2.7.6"
  }
 },
 "nbformat": 4,
 "nbformat_minor": 5
}
